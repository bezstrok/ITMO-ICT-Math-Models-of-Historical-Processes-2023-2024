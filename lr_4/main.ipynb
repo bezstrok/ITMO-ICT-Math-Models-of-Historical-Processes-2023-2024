{
 "cells": [
  {
   "cell_type": "code",
   "id": "733e2a552a4ed2a6",
   "metadata": {
    "ExecuteTime": {
     "end_time": "2024-09-26T01:55:27.592361Z",
     "start_time": "2024-09-26T01:55:27.588969Z"
    }
   },
   "source": [
    "import pandas as pd\n",
    "import matplotlib.pyplot as plt\n",
    "import seaborn as sns"
   ],
   "outputs": [],
   "execution_count": 13
  },
  {
   "cell_type": "code",
   "id": "fe3ed931bd5fcb24",
   "metadata": {
    "ExecuteTime": {
     "end_time": "2024-09-26T01:55:27.701778Z",
     "start_time": "2024-09-26T01:55:27.698097Z"
    }
   },
   "source": [
    "date_start = \"2014-01-01\"\n",
    "date_end = \"2022-01-01\""
   ],
   "outputs": [],
   "execution_count": 14
  },
  {
   "cell_type": "markdown",
   "id": "840e46691f8b631e",
   "metadata": {},
   "source": "## Задание 1"
  },
  {
   "cell_type": "code",
   "id": "initial_id",
   "metadata": {
    "collapsed": true,
    "ExecuteTime": {
     "end_time": "2024-09-26T01:55:27.751792Z",
     "start_time": "2024-09-26T01:55:27.745797Z"
    }
   },
   "source": [
    "df1 = pd.read_csv(\"datasets/gdp.csv\")"
   ],
   "outputs": [],
   "execution_count": 15
  },
  {
   "cell_type": "code",
   "id": "5e405416b028ed12",
   "metadata": {
    "ExecuteTime": {
     "end_time": "2024-09-26T01:55:27.809108Z",
     "start_time": "2024-09-26T01:55:27.803160Z"
    }
   },
   "source": [
    "df1[\"Variable observation date\"] = pd.to_datetime(df1[\"Variable observation date\"])\n",
    "df1 = df1[\n",
    "    (df1[\"Variable observation date\"] >= date_start)\n",
    "    & (df1[\"Variable observation date\"] <= date_end)\n",
    "]"
   ],
   "outputs": [],
   "execution_count": 16
  },
  {
   "cell_type": "code",
   "id": "f959491beadc4e6d",
   "metadata": {
    "ExecuteTime": {
     "end_time": "2024-09-26T01:55:27.995469Z",
     "start_time": "2024-09-26T01:55:27.821115Z"
    }
   },
   "source": [
    "plt.figure(figsize=(16, 8))\n",
    "\n",
    "sns.lineplot(\n",
    "    x=df1[\"Variable observation date\"],\n",
    "    y=df1[\"Variable observation value\"],\n",
    "    label=\"ВВП на душу населения\",\n",
    "    linestyle=\"-\",\n",
    ")\n",
    "\n",
    "plt.title(\"ВВП России на душу населения\")\n",
    "plt.xlabel(\"Год\")\n",
    "plt.ylabel(\"Доллары США\")\n",
    "plt.grid(True)\n",
    "plt.legend()\n",
    "\n",
    "plt.savefig(\"results/gdp.png\")\n",
    "\n",
    "plt.close()"
   ],
   "outputs": [
    {
     "name": "stderr",
     "output_type": "stream",
     "text": [
      "C:\\Users\\pocan\\AppData\\Local\\Temp\\ipykernel_13708\\3138061002.py:14: UserWarning: No artists with labels found to put in legend.  Note that artists whose label start with an underscore are ignored when legend() is called with no argument.\n",
      "  plt.legend()\n"
     ]
    }
   ],
   "execution_count": 17
  },
  {
   "cell_type": "markdown",
   "id": "9e1f5e821479105e",
   "metadata": {},
   "source": "## Задание 2"
  },
  {
   "cell_type": "code",
   "id": "433b350acb1e20e",
   "metadata": {
    "ExecuteTime": {
     "end_time": "2024-09-26T01:55:28.888999Z",
     "start_time": "2024-09-26T01:55:27.997481Z"
    }
   },
   "source": [
    "df2 = pd.read_excel(\"datasets/idx_mos.xlsx\")"
   ],
   "outputs": [],
   "execution_count": 18
  },
  {
   "cell_type": "code",
   "id": "3a634d1f2d6c632e",
   "metadata": {
    "ExecuteTime": {
     "end_time": "2024-09-26T01:55:28.894573Z",
     "start_time": "2024-09-26T01:55:28.890014Z"
    }
   },
   "source": [
    "df2 = df2[(df2[\"Дата\"] >= date_start) & (df2[\"Дата\"] <= date_end)]"
   ],
   "outputs": [],
   "execution_count": 19
  },
  {
   "cell_type": "code",
   "id": "c2411fd4f557ca22",
   "metadata": {
    "ExecuteTime": {
     "end_time": "2024-09-26T01:55:29.134038Z",
     "start_time": "2024-09-26T01:55:28.895579Z"
    }
   },
   "source": [
    "plt.figure(figsize=(16, 8))\n",
    "\n",
    "sns.lineplot(x=df2[\"Дата\"], y=df2[\"Значение\"], label=\"Индекс Мосбиржи\", linestyle=\"-\")\n",
    "\n",
    "plt.title(\"Композитный индекс российского фондового рынка\")\n",
    "plt.xlabel(\"Дата\")\n",
    "plt.ylabel(\"Индекс\")\n",
    "plt.grid(True)\n",
    "plt.legend()\n",
    "\n",
    "plt.savefig(\"results/idx_mos.png\")\n",
    "\n",
    "plt.close()"
   ],
   "outputs": [],
   "execution_count": 20
  },
  {
   "cell_type": "markdown",
   "id": "7d6877470bbe0ac3",
   "metadata": {},
   "source": "## Задание 3"
  },
  {
   "cell_type": "code",
   "id": "4ec7ebd54a66502c",
   "metadata": {
    "ExecuteTime": {
     "end_time": "2024-09-26T01:55:30.064384Z",
     "start_time": "2024-09-26T01:55:29.135057Z"
    }
   },
   "source": [
    "df3 = pd.read_excel(\"datasets/gld_mos.xlsx\")"
   ],
   "outputs": [],
   "execution_count": 21
  },
  {
   "cell_type": "code",
   "id": "c642bf17e4022d6f",
   "metadata": {
    "ExecuteTime": {
     "end_time": "2024-09-26T01:55:30.071Z",
     "start_time": "2024-09-26T01:55:30.066394Z"
    }
   },
   "source": [
    "df3 = df3[(df3[\"Дата\"] >= date_start) & (df3[\"Дата\"] <= date_end)]"
   ],
   "outputs": [],
   "execution_count": 22
  },
  {
   "cell_type": "code",
   "id": "ab406a52b13f1d9d",
   "metadata": {
    "ExecuteTime": {
     "end_time": "2024-09-26T01:55:30.417118Z",
     "start_time": "2024-09-26T01:55:30.072009Z"
    }
   },
   "source": [
    "plt.figure(figsize=(16, 8))\n",
    "\n",
    "sns.lineplot(x=df3[\"Дата\"], y=df3[\"Значение\"], label=\"Цена на золото\", linestyle=\"-\")\n",
    "\n",
    "plt.title(\"Цена на золото (Московская биржа)\")\n",
    "plt.xlabel(\"Дата\")\n",
    "plt.ylabel(\"Цена\")\n",
    "plt.grid(True)\n",
    "plt.legend()\n",
    "\n",
    "plt.savefig(\"results/gld_rus.png\")\n",
    "\n",
    "plt.close()"
   ],
   "outputs": [],
   "execution_count": 23
  },
  {
   "cell_type": "markdown",
   "id": "6387c2bbb1413771",
   "metadata": {},
   "source": "## Задание 4"
  },
  {
   "cell_type": "code",
   "id": "b3bfa3ceb0cf2589",
   "metadata": {
    "ExecuteTime": {
     "end_time": "2024-09-26T01:55:31.449892Z",
     "start_time": "2024-09-26T01:55:30.418126Z"
    }
   },
   "source": [
    "df4 = pd.read_excel(\"datasets/plt_mos.xlsx\")"
   ],
   "outputs": [],
   "execution_count": 24
  },
  {
   "cell_type": "code",
   "id": "bed05ec8d395f94a",
   "metadata": {
    "ExecuteTime": {
     "end_time": "2024-09-26T01:55:31.455418Z",
     "start_time": "2024-09-26T01:55:31.450906Z"
    }
   },
   "source": [
    "df4 = df4[(df4[\"Дата\"] >= date_start) & (df4[\"Дата\"] <= date_end)]"
   ],
   "outputs": [],
   "execution_count": 25
  },
  {
   "cell_type": "code",
   "id": "cb87b5b866fdc927",
   "metadata": {
    "ExecuteTime": {
     "end_time": "2024-09-26T01:55:31.712007Z",
     "start_time": "2024-09-26T01:55:31.457930Z"
    }
   },
   "source": [
    "plt.figure(figsize=(16, 8))\n",
    "\n",
    "sns.lineplot(x=df4[\"Дата\"], y=df4[\"Значение\"], label=\"Цена на платину\", linestyle=\"-\")\n",
    "\n",
    "plt.title(\"Цена на платину (Московская биржа)\")\n",
    "plt.xlabel(\"Дата\")\n",
    "plt.ylabel(\"Цена\")\n",
    "plt.grid(True)\n",
    "plt.legend()\n",
    "\n",
    "plt.savefig(\"results/plt_rus.png\")\n",
    "\n",
    "plt.close()"
   ],
   "outputs": [],
   "execution_count": 26
  },
  {
   "cell_type": "markdown",
   "id": "e91c6d06814d4666",
   "metadata": {},
   "source": "## Задание 5"
  },
  {
   "cell_type": "code",
   "id": "aa935209462b9f23",
   "metadata": {
    "ExecuteTime": {
     "end_time": "2024-09-26T01:55:31.993142Z",
     "start_time": "2024-09-26T01:55:31.713014Z"
    }
   },
   "source": [
    "df5 = pd.read_excel(\"datasets/it_mos.xlsx\")"
   ],
   "outputs": [],
   "execution_count": 27
  },
  {
   "cell_type": "code",
   "id": "cc93ab42c716b644",
   "metadata": {
    "ExecuteTime": {
     "end_time": "2024-09-26T01:55:31.999439Z",
     "start_time": "2024-09-26T01:55:31.994154Z"
    }
   },
   "source": [
    "df5 = df5[(df5[\"Дата\"] >= date_start) & (df5[\"Дата\"] <= date_end)]"
   ],
   "outputs": [],
   "execution_count": 28
  },
  {
   "cell_type": "code",
   "id": "30ea734c7de3faa8",
   "metadata": {
    "ExecuteTime": {
     "end_time": "2024-09-26T01:55:32.246086Z",
     "start_time": "2024-09-26T01:55:32.000447Z"
    }
   },
   "source": [
    "plt.figure(figsize=(16, 8))\n",
    "\n",
    "sns.lineplot(\n",
    "    x=df5[\"Дата\"],\n",
    "    y=df5[\"Значение\"],\n",
    "    label=\"Индекс МосБиржи информационных технологий\",\n",
    "    linestyle=\"-\",\n",
    ")\n",
    "\n",
    "plt.title(\"Индекс МосБиржи информационных технологий\")\n",
    "plt.xlabel(\"Дата\")\n",
    "plt.ylabel(\"Индекс\")\n",
    "plt.grid(True)\n",
    "plt.legend()\n",
    "\n",
    "plt.savefig(\"results/it_rus.png\")\n",
    "\n",
    "plt.close()"
   ],
   "outputs": [],
   "execution_count": 29
  },
  {
   "cell_type": "markdown",
   "id": "ec690b38e7e63201",
   "metadata": {},
   "source": "## Задание 6"
  },
  {
   "cell_type": "code",
   "id": "899d31aea81aeaaf",
   "metadata": {
    "ExecuteTime": {
     "end_time": "2024-09-26T01:55:32.252056Z",
     "start_time": "2024-09-26T01:55:32.247093Z"
    }
   },
   "source": [
    "df6 = pd.read_csv(\"datasets/sunspot.csv\")"
   ],
   "outputs": [],
   "execution_count": 30
  },
  {
   "cell_type": "code",
   "id": "7c152552bb947832",
   "metadata": {
    "ExecuteTime": {
     "end_time": "2024-09-26T01:55:32.260597Z",
     "start_time": "2024-09-26T01:55:32.253062Z"
    }
   },
   "source": [
    "df6[\"Date\"] = pd.to_datetime(df6[\"Date\"])\n",
    "df6 = df6[(df6[\"Date\"] >= date_start) & (df6[\"Date\"] <= date_end)]"
   ],
   "outputs": [],
   "execution_count": 31
  },
  {
   "cell_type": "code",
   "id": "f7727037311c09fd",
   "metadata": {
    "ExecuteTime": {
     "end_time": "2024-09-26T01:55:32.529578Z",
     "start_time": "2024-09-26T01:55:32.261603Z"
    }
   },
   "source": [
    "plt.figure(figsize=(16, 8))\n",
    "\n",
    "sns.lineplot(\n",
    "    x=df6[\"Date\"], y=df6[\"Sunspot_Number\"], label=\"Количество пятен\", linestyle=\"-\"\n",
    ")\n",
    "\n",
    "plt.title(\"Количество пятен на Солнце\")\n",
    "plt.xlabel(\"Дата\")\n",
    "plt.ylabel(\"Количество пятен\")\n",
    "plt.grid(True)\n",
    "plt.legend()\n",
    "\n",
    "plt.savefig(\"results/sunspot.png\")\n",
    "\n",
    "plt.close()"
   ],
   "outputs": [],
   "execution_count": 32
  },
  {
   "cell_type": "markdown",
   "id": "25e2ccc660a84d03",
   "metadata": {},
   "source": "## Задание 7"
  },
  {
   "cell_type": "code",
   "id": "c19048812e904f55",
   "metadata": {
    "ExecuteTime": {
     "end_time": "2024-09-26T01:55:32.895418Z",
     "start_time": "2024-09-26T01:55:32.530586Z"
    }
   },
   "source": [
    "plt.figure(figsize=(16, 8))\n",
    "\n",
    "sns.lineplot(\n",
    "    x=df1[\"Variable observation date\"],\n",
    "    y=df1[\"Variable observation value\"],\n",
    "    label=\"ВВП на душу населения\",\n",
    "    linestyle=\"-\",\n",
    "    color=\"blue\",\n",
    ")\n",
    "sns.lineplot(\n",
    "    x=df2[\"Дата\"],\n",
    "    y=df2[\"Значение\"],\n",
    "    label=\"Индекс Мосбиржи\",\n",
    "    linestyle=\"-\",\n",
    "    color=\"red\",\n",
    ")\n",
    "sns.lineplot(\n",
    "    x=df3[\"Дата\"],\n",
    "    y=df3[\"Значение\"],\n",
    "    label=\"Цена на золото\",\n",
    "    linestyle=\"-\",\n",
    "    color=\"green\",\n",
    ")\n",
    "sns.lineplot(\n",
    "    x=df4[\"Дата\"],\n",
    "    y=df4[\"Значение\"],\n",
    "    label=\"Цена на платину\",\n",
    "    linestyle=\"-\",\n",
    "    color=\"purple\",\n",
    ")\n",
    "sns.lineplot(\n",
    "    x=df5[\"Дата\"],\n",
    "    y=df5[\"Значение\"],\n",
    "    label=\"Индекс МосБиржи информационных технологий\",\n",
    "    linestyle=\"-\",\n",
    "    color=\"orange\",\n",
    ")\n",
    "\n",
    "plt.title(\"Сравнение различных показателей\")\n",
    "plt.xlabel(\"Дата\")\n",
    "plt.ylabel(\"Значение\")\n",
    "plt.grid(True)\n",
    "plt.legend()\n",
    "\n",
    "plt.savefig(\"results/comparison.png\")\n",
    "\n",
    "plt.close()"
   ],
   "outputs": [],
   "execution_count": 33
  }
 ],
 "metadata": {
  "kernelspec": {
   "display_name": "Python 3",
   "language": "python",
   "name": "python3"
  },
  "language_info": {
   "codemirror_mode": {
    "name": "ipython",
    "version": 2
   },
   "file_extension": ".py",
   "mimetype": "text/x-python",
   "name": "python",
   "nbconvert_exporter": "python",
   "pygments_lexer": "ipython2",
   "version": "2.7.6"
  }
 },
 "nbformat": 4,
 "nbformat_minor": 5
}
