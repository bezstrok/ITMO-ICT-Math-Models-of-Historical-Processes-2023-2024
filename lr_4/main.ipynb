{
 "cells": [
  {
   "cell_type": "code",
   "id": "733e2a552a4ed2a6",
   "metadata": {
    "ExecuteTime": {
     "end_time": "2024-09-26T02:18:09.355611Z",
     "start_time": "2024-09-26T02:18:09.352100Z"
    }
   },
   "source": [
    "import pandas as pd\n",
    "import matplotlib.pyplot as plt\n",
    "import seaborn as sns"
   ],
   "outputs": [],
   "execution_count": 64
  },
  {
   "cell_type": "code",
   "id": "fe3ed931bd5fcb24",
   "metadata": {
    "ExecuteTime": {
     "end_time": "2024-09-26T02:18:09.458677Z",
     "start_time": "2024-09-26T02:18:09.455821Z"
    }
   },
   "source": [
    "date_start = \"2014-01-01\"\n",
    "date_end = \"2022-01-01\""
   ],
   "outputs": [],
   "execution_count": 65
  },
  {
   "cell_type": "markdown",
   "id": "840e46691f8b631e",
   "metadata": {},
   "source": "## Задание 1"
  },
  {
   "cell_type": "code",
   "id": "initial_id",
   "metadata": {
    "collapsed": true,
    "ExecuteTime": {
     "end_time": "2024-09-26T02:18:09.483354Z",
     "start_time": "2024-09-26T02:18:09.476295Z"
    }
   },
   "source": [
    "df1 = pd.read_csv(\"datasets/gdp.csv\")"
   ],
   "outputs": [],
   "execution_count": 66
  },
  {
   "cell_type": "code",
   "id": "5e405416b028ed12",
   "metadata": {
    "ExecuteTime": {
     "end_time": "2024-09-26T02:18:09.517312Z",
     "start_time": "2024-09-26T02:18:09.512143Z"
    }
   },
   "source": [
    "df1[\"Variable observation date\"] = pd.to_datetime(df1[\"Variable observation date\"], format=\"%Y\")\n",
    "df1 = df1[\n",
    "    (df1[\"Variable observation date\"] >= date_start)\n",
    "    & (df1[\"Variable observation date\"] <= date_end)\n",
    "]"
   ],
   "outputs": [],
   "execution_count": 67
  },
  {
   "cell_type": "code",
   "id": "f959491beadc4e6d",
   "metadata": {
    "ExecuteTime": {
     "end_time": "2024-09-26T02:18:09.798331Z",
     "start_time": "2024-09-26T02:18:09.553548Z"
    }
   },
   "source": [
    "plt.figure(figsize=(14, 8))\n",
    "\n",
    "sns.lineplot(\n",
    "    x=df1[\"Variable observation date\"],\n",
    "    y=df1[\"Variable observation value\"],\n",
    "    label=\"ВВП на душу населения\",\n",
    "    linestyle=\"-\",\n",
    ")\n",
    "\n",
    "plt.title(\"ВВП России на душу населения\")\n",
    "plt.xlabel(\"Год\")\n",
    "plt.ylabel(\"Доллары США\")\n",
    "plt.grid(True)\n",
    "plt.legend()\n",
    "\n",
    "plt.savefig(\"results/gdp.png\")\n",
    "\n",
    "plt.close()"
   ],
   "outputs": [],
   "execution_count": 68
  },
  {
   "cell_type": "markdown",
   "id": "9e1f5e821479105e",
   "metadata": {},
   "source": "## Задание 2"
  },
  {
   "cell_type": "code",
   "id": "433b350acb1e20e",
   "metadata": {
    "ExecuteTime": {
     "end_time": "2024-09-26T02:18:11.836095Z",
     "start_time": "2024-09-26T02:18:09.799338Z"
    }
   },
   "source": [
    "df2 = pd.read_excel(\"datasets/idx_mos.xlsx\")"
   ],
   "outputs": [],
   "execution_count": 69
  },
  {
   "cell_type": "code",
   "id": "3a634d1f2d6c632e",
   "metadata": {
    "ExecuteTime": {
     "end_time": "2024-09-26T02:18:11.843841Z",
     "start_time": "2024-09-26T02:18:11.838102Z"
    }
   },
   "source": [
    "df2 = df2[(df2[\"Дата\"] >= date_start) & (df2[\"Дата\"] <= date_end)]"
   ],
   "outputs": [],
   "execution_count": 70
  },
  {
   "cell_type": "code",
   "id": "c2411fd4f557ca22",
   "metadata": {
    "ExecuteTime": {
     "end_time": "2024-09-26T02:18:12.244789Z",
     "start_time": "2024-09-26T02:18:11.846849Z"
    }
   },
   "source": [
    "plt.figure(figsize=(14, 8))\n",
    "\n",
    "sns.lineplot(x=df2[\"Дата\"], y=df2[\"Значение\"], label=\"Индекс Мосбиржи\", linestyle=\"-\")\n",
    "\n",
    "plt.title(\"Композитный индекс российского фондового рынка\")\n",
    "plt.xlabel(\"Дата\")\n",
    "plt.ylabel(\"Индекс\")\n",
    "plt.grid(True)\n",
    "plt.legend()\n",
    "\n",
    "plt.savefig(\"results/idx_mos.png\")\n",
    "\n",
    "plt.close()"
   ],
   "outputs": [],
   "execution_count": 71
  },
  {
   "cell_type": "markdown",
   "id": "7d6877470bbe0ac3",
   "metadata": {},
   "source": "## Задание 3"
  },
  {
   "cell_type": "code",
   "id": "4ec7ebd54a66502c",
   "metadata": {
    "ExecuteTime": {
     "end_time": "2024-09-26T02:18:13.646797Z",
     "start_time": "2024-09-26T02:18:12.245796Z"
    }
   },
   "source": [
    "df3 = pd.read_excel(\"datasets/gld_mos.xlsx\")"
   ],
   "outputs": [],
   "execution_count": 72
  },
  {
   "cell_type": "code",
   "id": "c642bf17e4022d6f",
   "metadata": {
    "ExecuteTime": {
     "end_time": "2024-09-26T02:18:13.653982Z",
     "start_time": "2024-09-26T02:18:13.647796Z"
    }
   },
   "source": [
    "df3 = df3[(df3[\"Дата\"] >= date_start) & (df3[\"Дата\"] <= date_end)]"
   ],
   "outputs": [],
   "execution_count": 73
  },
  {
   "cell_type": "code",
   "id": "ab406a52b13f1d9d",
   "metadata": {
    "ExecuteTime": {
     "end_time": "2024-09-26T02:18:13.928634Z",
     "start_time": "2024-09-26T02:18:13.654977Z"
    }
   },
   "source": [
    "plt.figure(figsize=(14, 8))\n",
    "\n",
    "sns.lineplot(x=df3[\"Дата\"], y=df3[\"Значение\"], label=\"Цена на золото\", linestyle=\"-\")\n",
    "\n",
    "plt.title(\"Цена на золото (Московская биржа)\")\n",
    "plt.xlabel(\"Дата\")\n",
    "plt.ylabel(\"Цена\")\n",
    "plt.grid(True)\n",
    "plt.legend()\n",
    "\n",
    "plt.savefig(\"results/gld_rus.png\")\n",
    "\n",
    "plt.close()"
   ],
   "outputs": [],
   "execution_count": 74
  },
  {
   "cell_type": "markdown",
   "id": "6387c2bbb1413771",
   "metadata": {},
   "source": "## Задание 4"
  },
  {
   "cell_type": "code",
   "id": "b3bfa3ceb0cf2589",
   "metadata": {
    "ExecuteTime": {
     "end_time": "2024-09-26T02:18:15.287302Z",
     "start_time": "2024-09-26T02:18:13.929646Z"
    }
   },
   "source": [
    "df4 = pd.read_excel(\"datasets/plt_mos.xlsx\")"
   ],
   "outputs": [],
   "execution_count": 75
  },
  {
   "cell_type": "code",
   "id": "bed05ec8d395f94a",
   "metadata": {
    "ExecuteTime": {
     "end_time": "2024-09-26T02:18:15.300817Z",
     "start_time": "2024-09-26T02:18:15.289310Z"
    }
   },
   "source": [
    "df4 = df4[(df4[\"Дата\"] >= date_start) & (df4[\"Дата\"] <= date_end)]"
   ],
   "outputs": [],
   "execution_count": 76
  },
  {
   "cell_type": "code",
   "id": "cb87b5b866fdc927",
   "metadata": {
    "ExecuteTime": {
     "end_time": "2024-09-26T02:18:15.582511Z",
     "start_time": "2024-09-26T02:18:15.303824Z"
    }
   },
   "source": [
    "plt.figure(figsize=(14, 8))\n",
    "\n",
    "sns.lineplot(x=df4[\"Дата\"], y=df4[\"Значение\"], label=\"Цена на платину\", linestyle=\"-\")\n",
    "\n",
    "plt.title(\"Цена на платину (Московская биржа)\")\n",
    "plt.xlabel(\"Дата\")\n",
    "plt.ylabel(\"Цена\")\n",
    "plt.grid(True)\n",
    "plt.legend()\n",
    "\n",
    "plt.savefig(\"results/plt_rus.png\")\n",
    "\n",
    "plt.close()"
   ],
   "outputs": [],
   "execution_count": 77
  },
  {
   "cell_type": "markdown",
   "id": "e91c6d06814d4666",
   "metadata": {},
   "source": "## Задание 5"
  },
  {
   "cell_type": "code",
   "id": "aa935209462b9f23",
   "metadata": {
    "ExecuteTime": {
     "end_time": "2024-09-26T02:18:15.854726Z",
     "start_time": "2024-09-26T02:18:15.583518Z"
    }
   },
   "source": [
    "df5 = pd.read_excel(\"datasets/it_mos.xlsx\")"
   ],
   "outputs": [],
   "execution_count": 78
  },
  {
   "cell_type": "code",
   "id": "cc93ab42c716b644",
   "metadata": {
    "ExecuteTime": {
     "end_time": "2024-09-26T02:18:15.859750Z",
     "start_time": "2024-09-26T02:18:15.855733Z"
    }
   },
   "source": [
    "df5 = df5[(df5[\"Дата\"] >= date_start) & (df5[\"Дата\"] <= date_end)]"
   ],
   "outputs": [],
   "execution_count": 79
  },
  {
   "cell_type": "code",
   "id": "30ea734c7de3faa8",
   "metadata": {
    "ExecuteTime": {
     "end_time": "2024-09-26T02:18:16.083701Z",
     "start_time": "2024-09-26T02:18:15.860759Z"
    }
   },
   "source": [
    "plt.figure(figsize=(14, 8))\n",
    "\n",
    "sns.lineplot(\n",
    "    x=df5[\"Дата\"],\n",
    "    y=df5[\"Значение\"],\n",
    "    label=\"Индекс МосБиржи информационных технологий\",\n",
    "    linestyle=\"-\",\n",
    ")\n",
    "\n",
    "plt.title(\"Индекс МосБиржи информационных технологий\")\n",
    "plt.xlabel(\"Дата\")\n",
    "plt.ylabel(\"Индекс\")\n",
    "plt.grid(True)\n",
    "plt.legend()\n",
    "\n",
    "plt.savefig(\"results/it_rus.png\")\n",
    "\n",
    "plt.close()"
   ],
   "outputs": [],
   "execution_count": 80
  },
  {
   "cell_type": "markdown",
   "id": "ec690b38e7e63201",
   "metadata": {},
   "source": "## Задание 6"
  },
  {
   "cell_type": "code",
   "id": "899d31aea81aeaaf",
   "metadata": {
    "ExecuteTime": {
     "end_time": "2024-09-26T02:18:16.090812Z",
     "start_time": "2024-09-26T02:18:16.084708Z"
    }
   },
   "source": [
    "df6 = pd.read_csv(\"datasets/sunspot.csv\")"
   ],
   "outputs": [],
   "execution_count": 81
  },
  {
   "cell_type": "code",
   "id": "7c152552bb947832",
   "metadata": {
    "ExecuteTime": {
     "end_time": "2024-09-26T02:18:16.098313Z",
     "start_time": "2024-09-26T02:18:16.091820Z"
    }
   },
   "source": [
    "df6[\"Date\"] = pd.to_datetime(df6[\"Date\"])\n",
    "df6 = df6[(df6[\"Date\"] >= date_start) & (df6[\"Date\"] <= date_end)]"
   ],
   "outputs": [],
   "execution_count": 82
  },
  {
   "cell_type": "code",
   "id": "f7727037311c09fd",
   "metadata": {
    "ExecuteTime": {
     "end_time": "2024-09-26T02:18:16.340612Z",
     "start_time": "2024-09-26T02:18:16.099327Z"
    }
   },
   "source": [
    "plt.figure(figsize=(14, 8))\n",
    "\n",
    "sns.lineplot(\n",
    "    x=df6[\"Date\"], y=df6[\"Sunspot_Number\"], label=\"Количество пятен\", linestyle=\"-\"\n",
    ")\n",
    "\n",
    "plt.title(\"Количество пятен на Солнце\")\n",
    "plt.xlabel(\"Дата\")\n",
    "plt.ylabel(\"Количество пятен\")\n",
    "plt.grid(True)\n",
    "plt.legend()\n",
    "\n",
    "plt.savefig(\"results/sunspot.png\")\n",
    "\n",
    "plt.close()"
   ],
   "outputs": [],
   "execution_count": 83
  },
  {
   "cell_type": "markdown",
   "id": "25e2ccc660a84d03",
   "metadata": {},
   "source": "## Задание 7"
  },
  {
   "cell_type": "code",
   "id": "c19048812e904f55",
   "metadata": {
    "ExecuteTime": {
     "end_time": "2024-09-26T02:18:16.746548Z",
     "start_time": "2024-09-26T02:18:16.341636Z"
    }
   },
   "source": [
    "plt.figure(figsize=(14, 8))\n",
    "\n",
    "sns.lineplot(\n",
    "    x=df2[\"Дата\"],\n",
    "    y=df2[\"Значение\"],\n",
    "    label=\"Индекс Мосбиржи\",\n",
    "    linestyle=\"-\",\n",
    "    color=\"red\",\n",
    ")\n",
    "sns.lineplot(\n",
    "    x=df3[\"Дата\"],\n",
    "    y=df3[\"Значение\"],\n",
    "    label=\"Цена на золото\",\n",
    "    linestyle=\"-\",\n",
    "    color=\"green\",\n",
    ")\n",
    "sns.lineplot(\n",
    "    x=df4[\"Дата\"],\n",
    "    y=df4[\"Значение\"],\n",
    "    label=\"Цена на платину\",\n",
    "    linestyle=\"-\",\n",
    "    color=\"purple\",\n",
    ")\n",
    "sns.lineplot(\n",
    "    x=df5[\"Дата\"],\n",
    "    y=df5[\"Значение\"],\n",
    "    label=\"Индекс МосБиржи информационных технологий\",\n",
    "    linestyle=\"-\",\n",
    "    color=\"orange\",\n",
    ")\n",
    "\n",
    "plt.title(\"Сравнение различных показателей\")\n",
    "plt.xlabel(\"Дата\")\n",
    "plt.ylabel(\"Значение\")\n",
    "plt.grid(True)\n",
    "plt.legend()\n",
    "\n",
    "plt.savefig(\"results/comparison.png\")\n",
    "\n",
    "plt.close()"
   ],
   "outputs": [],
   "execution_count": 84
  }
 ],
 "metadata": {
  "kernelspec": {
   "display_name": "Python 3",
   "language": "python",
   "name": "python3"
  },
  "language_info": {
   "codemirror_mode": {
    "name": "ipython",
    "version": 2
   },
   "file_extension": ".py",
   "mimetype": "text/x-python",
   "name": "python",
   "nbconvert_exporter": "python",
   "pygments_lexer": "ipython2",
   "version": "2.7.6"
  }
 },
 "nbformat": 4,
 "nbformat_minor": 5
}
