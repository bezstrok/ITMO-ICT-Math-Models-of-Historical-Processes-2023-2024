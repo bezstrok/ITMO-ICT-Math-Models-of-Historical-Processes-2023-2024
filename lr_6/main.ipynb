{
 "cells": [
  {
   "cell_type": "code",
   "execution_count": 42,
   "id": "initial_id",
   "metadata": {
    "ExecuteTime": {
     "end_time": "2024-09-27T05:41:13.133220Z",
     "start_time": "2024-09-27T05:41:13.129667Z"
    },
    "collapsed": true
   },
   "outputs": [],
   "source": [
    "import pandas as pd\n",
    "import matplotlib.pyplot as plt\n",
    "import seaborn as sns\n",
    "from scipy.stats import norm"
   ]
  },
  {
   "cell_type": "code",
   "execution_count": 43,
   "id": "678069d187868d23",
   "metadata": {
    "ExecuteTime": {
     "end_time": "2024-09-27T05:41:13.448867Z",
     "start_time": "2024-09-27T05:41:13.441212Z"
    }
   },
   "outputs": [],
   "source": [
    "age = pd.read_csv(\"data/average_age.csv\")\n",
    "wage = pd.read_csv(\"data/living_wage.csv\")\n",
    "retirement = pd.read_csv(\"data/retirement_age.csv\")"
   ]
  },
  {
   "cell_type": "code",
   "execution_count": 44,
   "id": "ffe17ee1f5d56526",
   "metadata": {
    "ExecuteTime": {
     "end_time": "2024-09-27T05:41:13.715514Z",
     "start_time": "2024-09-27T05:41:13.709506Z"
    }
   },
   "outputs": [],
   "source": [
    "# retirement['year'] = pd.to_datetime(retirement['year'], format='%Y')\n",
    "age[\"date\"] = pd.to_datetime(age[\"date\"], format=\"%Y-%m-%d\")\n",
    "wage[\"date\"] = pd.to_datetime(wage[\"date\"], format=\"%Y-%m-%d\")\n",
    "retirement[\"date\"] = pd.to_datetime(retirement[\"year\"], format=\"%Y-%m-%d\")"
   ]
  },
  {
   "cell_type": "code",
   "execution_count": 45,
   "id": "40493264f7c0a8be",
   "metadata": {
    "ExecuteTime": {
     "end_time": "2024-09-27T05:41:14.010117Z",
     "start_time": "2024-09-27T05:41:14.003482Z"
    }
   },
   "outputs": [],
   "source": [
    "start_date = \"2000-01-01\"\n",
    "end_date = \"2024-01-01\"\n",
    "age = age[(age[\"date\"] >= start_date) & (age[\"date\"] < end_date)]\n",
    "wage = wage[(wage[\"date\"] >= start_date) & (wage[\"date\"] < end_date)]\n",
    "retirement = retirement[\n",
    "    (retirement[\"date\"] >= start_date) & (retirement[\"date\"] < end_date)\n",
    "]"
   ]
  },
  {
   "cell_type": "code",
   "execution_count": 46,
   "id": "672f89ccd7035da2",
   "metadata": {
    "ExecuteTime": {
     "end_time": "2024-09-27T05:41:14.582772Z",
     "start_time": "2024-09-27T05:41:14.316556Z"
    }
   },
   "outputs": [],
   "source": [
    "plt.figure(figsize=(16, 8))\n",
    "\n",
    "sns.lineplot(\n",
    "    data=age, x=\"date\", y=\"value\", label=\"Средний возраст\", linestyle=\"-\", marker=\"o\"\n",
    ")\n",
    "sns.lineplot(\n",
    "    data=retirement,\n",
    "    x=\"date\",\n",
    "    y=\"value\",\n",
    "    label=\"Пенсионный возраст\",\n",
    "    linestyle=\"-\",\n",
    "    marker=\"o\",\n",
    ")\n",
    "\n",
    "plt.title(\"Изменение среднего возраста и пенсионного возраста в России\")\n",
    "plt.xlabel(\"Дата\")\n",
    "plt.ylabel(\"Возраст\")\n",
    "plt.grid(True)\n",
    "plt.legend()\n",
    "\n",
    "plt.savefig(\"results/age_and_retirement.png\")\n",
    "\n",
    "plt.close()"
   ]
  },
  {
   "cell_type": "code",
   "execution_count": 47,
   "id": "5625e6a0fba056f5",
   "metadata": {
    "ExecuteTime": {
     "end_time": "2024-09-27T05:41:15.209724Z",
     "start_time": "2024-09-27T05:41:14.973776Z"
    }
   },
   "outputs": [],
   "source": [
    "plt.figure(figsize=(16, 8))\n",
    "\n",
    "sns.lineplot(\n",
    "    data=wage,\n",
    "    x=\"date\",\n",
    "    y=\"value\",\n",
    "    label=\"Прожиточный минимум\",\n",
    "    linestyle=\"-\",\n",
    "    marker=\"o\",\n",
    ")\n",
    "\n",
    "plt.title(\"Изменение прожиточного минимума в России\")\n",
    "plt.xlabel(\"Дата\")\n",
    "plt.ylabel(\"Прожиточный минимум\")\n",
    "plt.grid(True)\n",
    "plt.legend()\n",
    "\n",
    "plt.savefig(\"results/wage.png\")\n",
    "\n",
    "plt.close()"
   ]
  },
  {
   "cell_type": "markdown",
   "id": "892bd2c8b9df311b",
   "metadata": {},
   "source": "## Синтез данных"
  },
  {
   "cell_type": "code",
   "execution_count": null,
   "id": "e67a2a3919a8c118",
   "metadata": {},
   "outputs": [],
   "source": [
    "def generate_retirement_age(mean_age) -> int:\n",
    "    return int(norm.rvs(loc=mean_age, scale=1))\n",
    "\n",
    "\n",
    "def get_minimum_wage(year):\n",
    "    return wage.loc[wage[\"date\"] == year, \"value\"].values[0]"
   ]
  }
 ],
 "metadata": {
  "kernelspec": {
   "display_name": "Python 3",
   "language": "python",
   "name": "python3"
  },
  "language_info": {
   "codemirror_mode": {
    "name": "ipython",
    "version": 2
   },
   "file_extension": ".py",
   "mimetype": "text/x-python",
   "name": "python",
   "nbconvert_exporter": "python",
   "pygments_lexer": "ipython2",
   "version": "2.7.6"
  }
 },
 "nbformat": 4,
 "nbformat_minor": 5
}
