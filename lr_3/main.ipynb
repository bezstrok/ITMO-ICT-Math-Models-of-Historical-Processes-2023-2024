{
 "cells": [
  {
   "cell_type": "code",
   "execution_count": 3,
   "id": "7dbc7d1e5b547704",
   "metadata": {
    "ExecuteTime": {
     "end_time": "2024-09-22T17:47:29.823762Z",
     "start_time": "2024-09-22T17:47:29.819238Z"
    }
   },
   "outputs": [],
   "source": [
    "import matplotlib.pyplot as plt\n",
    "import numpy as np\n",
    "import pandas as pd\n",
    "import seaborn as sns"
   ]
  },
  {
   "cell_type": "code",
   "execution_count": 4,
   "id": "a79549f92d1e6593",
   "metadata": {
    "ExecuteTime": {
     "end_time": "2024-09-22T17:47:30.483526Z",
     "start_time": "2024-09-22T17:47:30.479528Z"
    }
   },
   "outputs": [],
   "source": [
    "def exp_growth(t, v0, r):\n",
    "    return v0 * np.exp(r * t)"
   ]
  },
  {
   "cell_type": "markdown",
   "id": "626954e12373d795",
   "metadata": {},
   "source": "## Задание 1"
  },
  {
   "cell_type": "code",
   "execution_count": 8,
   "id": "e8d0db5d44ebb97",
   "metadata": {
    "ExecuteTime": {
     "end_time": "2024-09-22T17:34:58.897199Z",
     "start_time": "2024-09-22T17:34:58.868917Z"
    }
   },
   "outputs": [],
   "source": [
    "df = pd.read_csv(\"population.csv\")"
   ]
  },
  {
   "cell_type": "code",
   "execution_count": null,
   "id": "decaae5e1820c8d0",
   "metadata": {},
   "outputs": [],
   "source": [
    "start_year = 0\n",
    "end_year = 1700\n",
    "\n",
    "for county, group in df.groupby(\"Entity\"):\n",
    "    group = group[(group[\"Year\"] >= start_year) & (group[\"Year\"] <= end_year)]\n",
    "\n",
    "    if group.empty:\n",
    "        continue\n",
    "\n",
    "    years = group[\"Year\"].values\n",
    "    population = group[\"Population (historical)\"].values\n",
    "\n",
    "    p0 = population[0]\n",
    "    r = 0.001\n",
    "\n",
    "    gdp_predicted = exp_growth(years - years[0], p0, r)\n",
    "\n",
    "    plt.figure(figsize=(16, 8))\n",
    "\n",
    "    sns.lineplot(x=years, y=population, color=\"blue\", label=\"Реальные данные\")\n",
    "    sns.lineplot(x=years, y=gdp_predicted, color=\"red\", label=\"Предсказанные данные\")\n",
    "\n",
    "    plt.title(f\"Рост населения {county}\")\n",
    "    plt.xlabel(\"Год\")\n",
    "    plt.ylabel(\"Численность населения\")\n",
    "    plt.legend()\n",
    "\n",
    "    plt.savefig(f\"results/task_1/{county}.png\")"
   ]
  },
  {
   "cell_type": "markdown",
   "id": "2926c0c00da329f1",
   "metadata": {},
   "source": "## Задание 2"
  },
  {
   "cell_type": "code",
   "execution_count": 5,
   "id": "deffeeb97e5813da",
   "metadata": {
    "ExecuteTime": {
     "end_time": "2024-09-22T17:47:33.507188Z",
     "start_time": "2024-09-22T17:47:33.494142Z"
    }
   },
   "outputs": [],
   "source": [
    "df = pd.read_csv(\"gdp.csv\")"
   ]
  },
  {
   "cell_type": "code",
   "execution_count": 10,
   "id": "68710dcc07208ca8",
   "metadata": {
    "ExecuteTime": {
     "end_time": "2024-09-22T17:54:57.263596Z",
     "start_time": "2024-09-22T17:54:09.375826Z"
    }
   },
   "outputs": [],
   "source": [
    "start_year = 1700\n",
    "end_year = 2100\n",
    "r = 0.06\n",
    "\n",
    "for county, group in df.groupby(\"Entity\"):\n",
    "    group = group[(group[\"Year\"] >= start_year) & (group[\"Year\"] <= end_year)]\n",
    "\n",
    "    if group.empty:\n",
    "        continue\n",
    "\n",
    "    years = group[\"Year\"].values\n",
    "    gdp = group[\"GDP (constant 2015 US$)\"].values\n",
    "\n",
    "    v0 = gdp[0]\n",
    "\n",
    "    gdp_predicted = exp_growth(years - years[0], v0, r)\n",
    "\n",
    "    plt.figure(figsize=(16, 8))\n",
    "\n",
    "    sns.lineplot(x=years, y=gdp, color=\"blue\", label=\"Реальные данные\")\n",
    "    sns.lineplot(x=years, y=gdp_predicted, color=\"red\", label=\"Предсказанные данные\")\n",
    "\n",
    "    plt.title(f\"Рост ВВП {county}\")\n",
    "    plt.xlabel(\"Год\")\n",
    "    plt.ylabel(\"ВВП\")\n",
    "    plt.legend()\n",
    "\n",
    "    plt.savefig(f\"results/task_2/{county}.png\")\n",
    "\n",
    "    plt.close()"
   ]
  },
  {
   "cell_type": "code",
   "execution_count": null,
   "id": "218ee547c0089816",
   "metadata": {},
   "outputs": [],
   "source": []
  }
 ],
 "metadata": {
  "kernelspec": {
   "display_name": "Python 3",
   "language": "python",
   "name": "python3"
  },
  "language_info": {
   "codemirror_mode": {
    "name": "ipython",
    "version": 2
   },
   "file_extension": ".py",
   "mimetype": "text/x-python",
   "name": "python",
   "nbconvert_exporter": "python",
   "pygments_lexer": "ipython2",
   "version": "2.7.6"
  }
 },
 "nbformat": 4,
 "nbformat_minor": 5
}
