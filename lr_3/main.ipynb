{
 "cells": [
  {
   "cell_type": "code",
   "execution_count": 14,
   "id": "7dbc7d1e5b547704",
   "metadata": {
    "ExecuteTime": {
     "end_time": "2024-09-22T17:18:16.073569Z",
     "start_time": "2024-09-22T17:18:16.069724Z"
    }
   },
   "outputs": [],
   "source": [
    "import matplotlib.pyplot as plt\n",
    "import numpy as np\n",
    "import pandas as pd\n",
    "import seaborn as sns"
   ]
  },
  {
   "cell_type": "code",
   "execution_count": 15,
   "id": "initial_id",
   "metadata": {
    "ExecuteTime": {
     "end_time": "2024-09-22T17:18:16.374631Z",
     "start_time": "2024-09-22T17:18:16.342695Z"
    },
    "collapsed": true
   },
   "outputs": [],
   "source": [
    "df = pd.read_csv(\"population.csv\")"
   ]
  },
  {
   "cell_type": "markdown",
   "id": "626954e12373d795",
   "metadata": {},
   "source": "## Задание 1"
  },
  {
   "cell_type": "code",
   "execution_count": 16,
   "id": "c7bc831e4a60d445",
   "metadata": {
    "ExecuteTime": {
     "end_time": "2024-09-22T17:18:16.812902Z",
     "start_time": "2024-09-22T17:18:16.809383Z"
    }
   },
   "outputs": [],
   "source": [
    "def population_growth(t, p0, r):\n",
    "    return p0 * np.exp(r * t)"
   ]
  },
  {
   "cell_type": "code",
   "execution_count": null,
   "id": "decaae5e1820c8d0",
   "metadata": {},
   "outputs": [],
   "source": [
    "start_year = 0\n",
    "end_year = 1700\n",
    "\n",
    "for county, group in df.groupby(\"Entity\"):\n",
    "    group = group[(group[\"Year\"] >= start_year) & (group[\"Year\"] <= end_year)]\n",
    "\n",
    "    if group.empty:\n",
    "        continue\n",
    "\n",
    "    years = group[\"Year\"].values\n",
    "    population = group[\"Population (historical)\"].values\n",
    "\n",
    "    p0 = population[0]\n",
    "    r = 0.001\n",
    "\n",
    "    population_predicted = population_growth(years - years[0], p0, r)\n",
    "\n",
    "    plt.figure(figsize=(16, 8))\n",
    "\n",
    "    sns.lineplot(x=years, y=population, color=\"blue\", label=\"Реальные данные\")\n",
    "    sns.lineplot(\n",
    "        x=years, y=population_predicted, color=\"red\", label=\"Предсказанные данные\"\n",
    "    )\n",
    "\n",
    "    plt.title(f\"Рост населения {county}\")\n",
    "    plt.xlabel(\"Год\")\n",
    "    plt.ylabel(\"Численность населения\")\n",
    "    plt.legend()\n",
    "\n",
    "    plt.savefig(f\"results/task_1/{county}.png\")"
   ]
  },
  {
   "cell_type": "code",
   "execution_count": null,
   "id": "5fa8465bfc152012",
   "metadata": {},
   "outputs": [],
   "source": []
  }
 ],
 "metadata": {
  "kernelspec": {
   "display_name": "Python 3",
   "language": "python",
   "name": "python3"
  },
  "language_info": {
   "codemirror_mode": {
    "name": "ipython",
    "version": 2
   },
   "file_extension": ".py",
   "mimetype": "text/x-python",
   "name": "python",
   "nbconvert_exporter": "python",
   "pygments_lexer": "ipython2",
   "version": "2.7.6"
  }
 },
 "nbformat": 4,
 "nbformat_minor": 5
}
