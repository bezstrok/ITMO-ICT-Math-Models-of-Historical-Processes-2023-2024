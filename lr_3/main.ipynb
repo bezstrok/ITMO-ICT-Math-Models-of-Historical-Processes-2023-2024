{
 "cells": [
  {
   "cell_type": "code",
   "execution_count": 14,
   "id": "7dbc7d1e5b547704",
   "metadata": {
    "ExecuteTime": {
     "end_time": "2024-09-22T18:05:00.418441Z",
     "start_time": "2024-09-22T18:05:00.414711Z"
    }
   },
   "outputs": [],
   "source": [
    "import matplotlib.pyplot as plt\n",
    "import numpy as np\n",
    "import pandas as pd\n",
    "import seaborn as sns\n",
    "from scipy.integrate import solve_ivp"
   ]
  },
  {
   "cell_type": "code",
   "execution_count": 4,
   "id": "a79549f92d1e6593",
   "metadata": {
    "ExecuteTime": {
     "end_time": "2024-09-22T17:47:30.483526Z",
     "start_time": "2024-09-22T17:47:30.479528Z"
    }
   },
   "outputs": [],
   "source": [
    "def exp_growth(t, v0, r):\n",
    "    return v0 * np.exp(r * t)"
   ]
  },
  {
   "cell_type": "markdown",
   "id": "626954e12373d795",
   "metadata": {},
   "source": "## Задание 1"
  },
  {
   "cell_type": "code",
   "execution_count": 8,
   "id": "e8d0db5d44ebb97",
   "metadata": {
    "ExecuteTime": {
     "end_time": "2024-09-22T17:34:58.897199Z",
     "start_time": "2024-09-22T17:34:58.868917Z"
    }
   },
   "outputs": [],
   "source": [
    "df = pd.read_csv(\"population.csv\")"
   ]
  },
  {
   "cell_type": "code",
   "execution_count": null,
   "id": "decaae5e1820c8d0",
   "metadata": {},
   "outputs": [],
   "source": [
    "start_year = 0\n",
    "end_year = 1700\n",
    "\n",
    "for county, group in df.groupby(\"Entity\"):\n",
    "    group = group[(group[\"Year\"] >= start_year) & (group[\"Year\"] <= end_year)]\n",
    "\n",
    "    if group.empty:\n",
    "        continue\n",
    "\n",
    "    years = group[\"Year\"].values\n",
    "    population = group[\"Population (historical)\"].values\n",
    "\n",
    "    p0 = population[0]\n",
    "    r = 0.001\n",
    "\n",
    "    gdp_predicted = exp_growth(years - years[0], p0, r)\n",
    "\n",
    "    plt.figure(figsize=(16, 8))\n",
    "\n",
    "    sns.lineplot(x=years, y=population, color=\"blue\", label=\"Реальные данные\")\n",
    "    sns.lineplot(x=years, y=gdp_predicted, color=\"red\", label=\"Предсказанные данные\")\n",
    "\n",
    "    plt.title(f\"Рост населения {county}\")\n",
    "    plt.xlabel(\"Год\")\n",
    "    plt.ylabel(\"Численность населения\")\n",
    "    plt.legend()\n",
    "\n",
    "    plt.savefig(f\"results/task_1/{county}.png\")\n",
    "\n",
    "    plt.close()"
   ]
  },
  {
   "cell_type": "markdown",
   "id": "2926c0c00da329f1",
   "metadata": {},
   "source": "## Задание 2"
  },
  {
   "cell_type": "code",
   "execution_count": 5,
   "id": "deffeeb97e5813da",
   "metadata": {
    "ExecuteTime": {
     "end_time": "2024-09-22T17:47:33.507188Z",
     "start_time": "2024-09-22T17:47:33.494142Z"
    }
   },
   "outputs": [],
   "source": [
    "df = pd.read_csv(\"gdp.csv\")"
   ]
  },
  {
   "cell_type": "code",
   "execution_count": 10,
   "id": "68710dcc07208ca8",
   "metadata": {
    "ExecuteTime": {
     "end_time": "2024-09-22T17:54:57.263596Z",
     "start_time": "2024-09-22T17:54:09.375826Z"
    }
   },
   "outputs": [],
   "source": [
    "start_year = 1700\n",
    "end_year = 2100\n",
    "r = 0.06\n",
    "\n",
    "for county, group in df.groupby(\"Entity\"):\n",
    "    group = group[(group[\"Year\"] >= start_year) & (group[\"Year\"] <= end_year)]\n",
    "\n",
    "    if group.empty:\n",
    "        continue\n",
    "\n",
    "    years = group[\"Year\"].values\n",
    "    gdp = group[\"GDP (constant 2015 US$)\"].values\n",
    "\n",
    "    v0 = gdp[0]\n",
    "\n",
    "    gdp_predicted = exp_growth(years - years[0], v0, r)\n",
    "\n",
    "    plt.figure(figsize=(16, 8))\n",
    "\n",
    "    sns.lineplot(x=years, y=gdp, color=\"blue\", label=\"Реальные данные\")\n",
    "    sns.lineplot(x=years, y=gdp_predicted, color=\"red\", label=\"Предсказанные данные\")\n",
    "\n",
    "    plt.title(f\"Рост ВВП {county}\")\n",
    "    plt.xlabel(\"Год\")\n",
    "    plt.ylabel(\"ВВП\")\n",
    "    plt.legend()\n",
    "\n",
    "    plt.savefig(f\"results/task_2/{county}.png\")\n",
    "\n",
    "    plt.close()"
   ]
  },
  {
   "cell_type": "markdown",
   "id": "448cb173071461a6",
   "metadata": {},
   "source": [
    "## Задание 3\n",
    "### Уравнение Гаусса для электрического поля"
   ]
  },
  {
   "cell_type": "code",
   "execution_count": 18,
   "id": "51fd0ea1cdeb74de",
   "metadata": {
    "ExecuteTime": {
     "end_time": "2024-09-22T18:07:28.348081Z",
     "start_time": "2024-09-22T18:07:28.075346Z"
    }
   },
   "outputs": [],
   "source": [
    "eps0 = 8.854e-12  # Ф/м\n",
    "\n",
    "\n",
    "def gauss_equation(r, E, Q=1e-9):\n",
    "    return Q / (4 * np.pi * eps0 * r**2)\n",
    "\n",
    "\n",
    "initial_field = [0]\n",
    "t_span = [0.01, 10]\n",
    "t = np.linspace(t_span[0], t_span[1], 1000)\n",
    "\n",
    "sol = solve_ivp(gauss_equation, t_span, initial_field, t_eval=t)\n",
    "\n",
    "plt.figure(figsize=(16, 12))\n",
    "sns.lineplot(x=sol.t, y=sol.y[0], label=\"Электрическое поле $E(r)$\")\n",
    "plt.xlabel(\"Радиус $r$ (м)\")\n",
    "plt.ylabel(\"Электрическое поле $E$ (В/м)\")\n",
    "plt.title(\"Решение уравнения Гаусса для электрического поля\")\n",
    "plt.legend()\n",
    "\n",
    "plt.savefig(\"results/task_3/gauss_equation.png\")\n",
    "\n",
    "plt.close()"
   ]
  }
 ],
 "metadata": {
  "kernelspec": {
   "display_name": "Python 3",
   "language": "python",
   "name": "python3"
  },
  "language_info": {
   "codemirror_mode": {
    "name": "ipython",
    "version": 2
   },
   "file_extension": ".py",
   "mimetype": "text/x-python",
   "name": "python",
   "nbconvert_exporter": "python",
   "pygments_lexer": "ipython2",
   "version": "2.7.6"
  }
 },
 "nbformat": 4,
 "nbformat_minor": 5
}
